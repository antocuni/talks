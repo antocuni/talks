{
 "cells": [
  {
   "cell_type": "markdown",
   "metadata": {
    "slideshow": {
     "slide_type": "slide"
    }
   },
   "source": [
    "# How PyPy can help High Performance Computing"
   ]
  },
  {
   "cell_type": "markdown",
   "metadata": {
    "slideshow": {
     "slide_type": "subslide"
    }
   },
   "source": [
    "## Short bio\n",
    "bla bla bla"
   ]
  },
  {
   "cell_type": "markdown",
   "metadata": {
    "slideshow": {
     "slide_type": "slide"
    }
   },
   "source": [
    "# How many of you use Python?"
   ]
  },
  {
   "cell_type": "markdown",
   "metadata": {
    "slideshow": {
     "slide_type": "subslide"
    }
   },
   "source": [
    "# How many have ever had performance problems?"
   ]
  },
  {
   "cell_type": "markdown",
   "metadata": {
    "slideshow": {
     "slide_type": "subslide"
    }
   },
   "source": [
    "# Why do you use Python, then?"
   ]
  },
  {
   "cell_type": "markdown",
   "metadata": {
    "slideshow": {
     "slide_type": "slide"
    }
   },
   "source": [
    "# Python strong points\n",
    "\n",
    "* Simplicity\n",
    "* Lots of libraries\n",
    "* Ecosystem"
   ]
  },
  {
   "cell_type": "markdown",
   "metadata": {
    "slideshow": {
     "slide_type": "fragment"
    }
   },
   "source": [
    "* Ok, but why?"
   ]
  },
  {
   "cell_type": "markdown",
   "metadata": {
    "slideshow": {
     "slide_type": "slide"
    }
   },
   "source": [
    "# Python **real** strong points\n",
    "\n",
    "* Expressive APIs\n",
    "* Abstractions\n"
   ]
  },
  {
   "cell_type": "markdown",
   "metadata": {
    "slideshow": {
     "slide_type": "subslide"
    }
   },
   "source": [
    "# Example: JSON"
   ]
  },
  {
   "cell_type": "markdown",
   "metadata": {
    "cell_style": "center",
    "slideshow": {
     "slide_type": "fragment"
    }
   },
   "source": [
    "```java\n",
    "// googled for \"getJSONArray example\", found this:\n",
    "// https://stackoverflow.com/questions/32624166/how-to-get-json-array-within-json-object\n",
    "\n",
    "JSONObject jsonObj = new JSONObject(jsonString);\n",
    "\n",
    "JSONArray jArray = jsonObj.getJSONArray(\"data\");\n",
    "int length = jArray.length();\n",
    "for(int i=0; i<length; i++) {\n",
    "    JSONObject jObj = jArray.getJSONObject(i);\n",
    "    String id = jObj.optString(\"id\");\n",
    "    String name=jObj.optString(\"name\");\n",
    "\n",
    "    JSONArray ingredientArray = jObj.getJSONArray(\"Ingredients\");\n",
    "    int size = ingredientArray.length();\n",
    "    ArrayList<String> Ingredients = new ArrayList<>();\n",
    "\n",
    "    for(int j=0; j<size; j++) {\n",
    "        JSONObject json = ja.getJSONObject(j);\n",
    "        Ingredients.add(json.optString(\"name\"));\n",
    "    }\n",
    "}\n",
    "```"
   ]
  },
  {
   "cell_type": "markdown",
   "metadata": {
    "cell_style": "center",
    "slideshow": {
     "slide_type": "fragment"
    }
   },
   "source": [
    "```python\n",
    "obj = json.loads(string)\n",
    "for item in obj['data']:\n",
    "    id = item['id']\n",
    "    name = item['name']\n",
    "    ingredients = []\n",
    "    for ingr in item[\"ingredients\"]:\n",
    "        ingredients.append(ingr['name'])\n",
    "```"
   ]
  },
  {
   "cell_type": "markdown",
   "metadata": {
    "slideshow": {
     "slide_type": "slide"
    }
   },
   "source": [
    "# So far so good, BUT"
   ]
  },
  {
   "cell_type": "markdown",
   "metadata": {},
   "source": [
    "<img width=\"100%\" src=\"tracing-phases.svg\" />"
   ]
  }
 ],
 "metadata": {
  "celltoolbar": "Slideshow",
  "kernelspec": {
   "display_name": "Python 2",
   "language": "python",
   "name": "python2"
  },
  "language_info": {
   "codemirror_mode": {
    "name": "ipython",
    "version": 2
   },
   "file_extension": ".py",
   "mimetype": "text/x-python",
   "name": "python",
   "nbconvert_exporter": "python",
   "pygments_lexer": "ipython2",
   "version": "2.7.14"
  }
 },
 "nbformat": 4,
 "nbformat_minor": 2
}
