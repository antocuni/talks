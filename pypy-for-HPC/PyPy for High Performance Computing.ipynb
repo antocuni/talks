{
 "cells": [
  {
   "cell_type": "markdown",
   "metadata": {
    "slideshow": {
     "slide_type": "slide"
    }
   },
   "source": [
    "# How PyPy can help High Performance Computing"
   ]
  },
  {
   "cell_type": "markdown",
   "metadata": {
    "slideshow": {
     "slide_type": "slide"
    }
   },
   "source": [
    "# Short bio\n",
    "\n",
    "* PyPy core dev since 2006\n",
    "* pdb++, CFFI, vmprof, capnpy, ...\n",
    "* @antocuni\n",
    "* https://github.com/antocuni\n",
    "* https://bitbucket.org/antocuni"
   ]
  },
  {
   "cell_type": "markdown",
   "metadata": {
    "slideshow": {
     "slide_type": "slide"
    }
   },
   "source": [
    "# How many of you use Python?"
   ]
  },
  {
   "cell_type": "markdown",
   "metadata": {
    "slideshow": {
     "slide_type": "slide"
    }
   },
   "source": [
    "# How many have ever had performance problems?"
   ]
  },
  {
   "cell_type": "markdown",
   "metadata": {
    "slideshow": {
     "slide_type": "slide"
    }
   },
   "source": [
    "# Why do you use Python, then?"
   ]
  },
  {
   "cell_type": "markdown",
   "metadata": {
    "slideshow": {
     "slide_type": "slide"
    }
   },
   "source": [
    "# Python strong points\n",
    "\n",
    "* Simplicity\n",
    "* Lots of libraries\n",
    "* Ecosystem"
   ]
  },
  {
   "cell_type": "markdown",
   "metadata": {
    "slideshow": {
     "slide_type": "subslide"
    }
   },
   "source": [
    "<img src=\"images/ken-treloar-346065-unsplash.jpg\" />\n",
    "\n",
    "<div align=\"right\"><small>Photo by <a href=\"https://unsplash.com/photos/yjePAp-tpmQ\">Ken Treloar</a> on <a href=\"https://unsplash.com/\">Unsplash</a></small></div>"
   ]
  },
  {
   "cell_type": "markdown",
   "metadata": {
    "slideshow": {
     "slide_type": "slide"
    }
   },
   "source": [
    "# Python *REAL* strong points\n",
    "\n",
    "* Expressive & simple APIs\n",
    "* Uniform typesystem (everything is an object)\n",
    "* Powerful abstractions\n"
   ]
  },
  {
   "cell_type": "markdown",
   "metadata": {
    "slideshow": {
     "slide_type": "slide"
    }
   },
   "source": [
    "# Example: JSON"
   ]
  },
  {
   "cell_type": "markdown",
   "metadata": {
    "cell_style": "center",
    "slideshow": {
     "slide_type": "slide"
    }
   },
   "source": [
    "```java\n",
    "JSONObject jsonObj = new JSONObject(jsonString);\n",
    "\n",
    "JSONArray jArray = jsonObj.getJSONArray(\"data\");\n",
    "int length = jArray.length();\n",
    "for(int i=0; i<length; i++) {\n",
    "    JSONObject jObj = jArray.getJSONObject(i);\n",
    "    String id = jObj.optString(\"id\");\n",
    "    String name=jObj.optString(\"name\");\n",
    "\n",
    "    JSONArray ingredientArray = jObj.getJSONArray(\"Ingredients\");\n",
    "    int size = ingredientArray.length();\n",
    "    ArrayList<String> Ingredients = new ArrayList<>();\n",
    "\n",
    "    for(int j=0; j<size; j++) {\n",
    "        JSONObject json = ja.getJSONObject(j);\n",
    "        Ingredients.add(json.optString(\"name\"));\n",
    "    }\n",
    "}\n",
    "\n",
    "// googled for \"getJSONArray example\", found this:\n",
    "// https://stackoverflow.com/questions/32624166/how-to-get-json-array-within-json-object\n",
    "\n",
    "```"
   ]
  },
  {
   "cell_type": "markdown",
   "metadata": {
    "cell_style": "center",
    "slideshow": {
     "slide_type": "slide"
    }
   },
   "source": [
    "```python\n",
    "obj = json.loads(string)\n",
    "for item in obj['data']:\n",
    "    id = item['id']\n",
    "    name = item['name']\n",
    "    ingredients = []\n",
    "    for ingr in item[\"ingredients\"]:\n",
    "        ingredients.append(ingr['name'])\n",
    "```"
   ]
  },
  {
   "cell_type": "markdown",
   "metadata": {
    "slideshow": {
     "slide_type": "slide"
    }
   },
   "source": [
    "# So far so good, BUT"
   ]
  },
  {
   "cell_type": "markdown",
   "metadata": {
    "slideshow": {
     "slide_type": "fragment"
    }
   },
   "source": [
    "<center><img src=\"images/abstractions.svg\" width=\"50%\" /></center>"
   ]
  },
  {
   "cell_type": "markdown",
   "metadata": {
    "slideshow": {
     "slide_type": "subslide"
    }
   },
   "source": [
    "<center><img src=\"images/toy-story.jpg\" width=\"100%\" /></center>"
   ]
  },
  {
   "cell_type": "markdown",
   "metadata": {
    "slideshow": {
     "slide_type": "slide"
    }
   },
   "source": [
    "# Example of temporary objects\n",
    "## Bound methods"
   ]
  },
  {
   "cell_type": "code",
   "execution_count": null,
   "metadata": {
    "slideshow": {
     "slide_type": "fragment"
    }
   },
   "outputs": [],
   "source": [
    "class A(object):\n",
    "    def foo(self):\n",
    "        return 42\n",
    "\n",
    "a = A()\n",
    "bound_foo = a.foo\n",
    "%timeit a.foo()\n",
    "%timeit bound_foo()"
   ]
  },
  {
   "cell_type": "markdown",
   "metadata": {
    "slideshow": {
     "slide_type": "slide"
    }
   },
   "source": [
    "# Ideally\n",
    "### Think of concepts, not implementation details\n"
   ]
  },
  {
   "cell_type": "markdown",
   "metadata": {
    "slideshow": {
     "slide_type": "fragment"
    }
   },
   "source": [
    "# Real world\n",
    "### Details leak to the user"
   ]
  },
  {
   "cell_type": "markdown",
   "metadata": {
    "slideshow": {
     "slide_type": "slide"
    }
   },
   "source": [
    "# Python problem\n",
    "### Tension between abstractions and performance"
   ]
  },
  {
   "cell_type": "markdown",
   "metadata": {
    "slideshow": {
     "slide_type": "slide"
    }
   },
   "source": [
    "# Classical Python approaches to performance"
   ]
  },
  {
   "cell_type": "markdown",
   "metadata": {
    "slideshow": {
     "slide_type": "slide"
    }
   },
   "source": [
    "# 1. Work around in the user code\n",
    "### e.g. create bound methods beforehand"
   ]
  },
  {
   "cell_type": "markdown",
   "metadata": {
    "slideshow": {
     "slide_type": "slide"
    }
   },
   "source": [
    "# 2. Work around in the language specs"
   ]
  },
  {
   "cell_type": "markdown",
   "metadata": {
    "cell_style": "split",
    "slideshow": {
     "slide_type": "fragment"
    }
   },
   "source": [
    "* range vs xrange\n",
    "* dict.keys vs .iterkeys \n",
    "* int vs long\n",
    "* array.array vs list"
   ]
  },
  {
   "cell_type": "markdown",
   "metadata": {
    "cell_style": "split",
    "slideshow": {
     "slide_type": "fragment"
    }
   },
   "source": [
    "* Easier to implement\n",
    "* Harder to use\n",
    "* Clutter the language unnecessarily\n",
    "* More complex to understand\n",
    "* Not really Pythonic"
   ]
  },
  {
   "cell_type": "markdown",
   "metadata": {
    "slideshow": {
     "slide_type": "slide"
    }
   },
   "source": [
    "# 3. Stay in C as much as possible"
   ]
  },
  {
   "cell_type": "code",
   "execution_count": 2,
   "metadata": {},
   "outputs": [
    {
     "name": "stdout",
     "output_type": "stream",
     "text": [
      "The slowest run took 11.03 times longer than the fastest. This could mean that an intermediate result is being cached.\n",
      "10000 loops, best of 3: 52 µs per loop\n"
     ]
    }
   ],
   "source": [
    "numbers = range(1000)\n",
    "% timeit [x*2 for x in numbers]"
   ]
  },
  {
   "cell_type": "code",
   "execution_count": 3,
   "metadata": {},
   "outputs": [
    {
     "name": "stdout",
     "output_type": "stream",
     "text": [
      "The slowest run took 428.56 times longer than the fastest. This could mean that an intermediate result is being cached.\n",
      "100000 loops, best of 3: 2.53 µs per loop\n"
     ]
    }
   ],
   "source": [
    "import numpy as np\n",
    "\n",
    "numbers = np.arange(1000)\n",
    "% timeit numbers*2"
   ]
  },
  {
   "cell_type": "markdown",
   "metadata": {
    "slideshow": {
     "slide_type": "slide"
    }
   },
   "source": [
    "# 4. Rewrite in C\n",
    "\n",
    "* `#include \"Python.h\"`\n",
    "* Cython\n",
    "* CFFI\n"
   ]
  },
  {
   "cell_type": "markdown",
   "metadata": {
    "slideshow": {
     "slide_type": "slide"
    }
   },
   "source": [
    "# \"Rewrite in C\" approach\n",
    "## aka, 90/10 rule"
   ]
  },
  {
   "cell_type": "markdown",
   "metadata": {
    "cell_style": "split",
    "slideshow": {
     "slide_type": "subslide"
    }
   },
   "source": [
    "<img src=\"images/90-10-rule-1.svg\">"
   ]
  },
  {
   "cell_type": "markdown",
   "metadata": {
    "cell_style": "split",
    "slideshow": {
     "slide_type": "fragment"
    }
   },
   "source": [
    "<img src=\"images/90-10-rule-2.svg\">"
   ]
  },
  {
   "cell_type": "markdown",
   "metadata": {
    "cell_style": "split",
    "slideshow": {
     "slide_type": "subslide"
    }
   },
   "source": [
    "<img src=\"images/90-10-rule-3.svg\">"
   ]
  },
  {
   "cell_type": "markdown",
   "metadata": {
    "cell_style": "split",
    "slideshow": {
     "slide_type": "fragment"
    }
   },
   "source": [
    "* Abstractions cost\n",
    "* Code quality => poor performance\n",
    "* Python parts become relevant"
   ]
  },
  {
   "cell_type": "markdown",
   "metadata": {
    "slideshow": {
     "slide_type": "slide"
    }
   },
   "source": [
    "# Python in the HPC world"
   ]
  },
  {
   "cell_type": "markdown",
   "metadata": {
    "slideshow": {
     "slide_type": "fragment"
    }
   },
   "source": [
    "# Python as a glue-only language"
   ]
  },
  {
   "cell_type": "markdown",
   "metadata": {
    "cell_style": "center",
    "slideshow": {
     "slide_type": "fragment"
    }
   },
   "source": [
    "# Tradeoff between speed and code quality"
   ]
  },
  {
   "cell_type": "markdown",
   "metadata": {
    "slideshow": {
     "slide_type": "slide"
    }
   },
   "source": [
    "# PyPy"
   ]
  },
  {
   "cell_type": "markdown",
   "metadata": {
    "slideshow": {
     "slide_type": "fragment"
    }
   },
   "source": [
    "* Alternative Python implementation\n",
    "* Ideally: no visible difference to the user\n",
    "* JIT compiler\n",
    "* http://pypy.org"
   ]
  },
  {
   "cell_type": "markdown",
   "metadata": {
    "slideshow": {
     "slide_type": "slide"
    }
   },
   "source": [
    "# How fast is PyPy?"
   ]
  },
  {
   "cell_type": "markdown",
   "metadata": {
    "slideshow": {
     "slide_type": "fragment"
    }
   },
   "source": [
    "### Wrong question"
   ]
  },
  {
   "cell_type": "markdown",
   "metadata": {
    "slideshow": {
     "slide_type": "fragment"
    }
   },
   "source": [
    "* Up to 80x faster in extreme cases\n",
    "* 10x faster in good cases\n",
    "* 2x faster on \"random\" code\n",
    "* sometime it's just slower "
   ]
  },
  {
   "cell_type": "markdown",
   "metadata": {
    "slideshow": {
     "slide_type": "slide"
    }
   },
   "source": [
    "# PyPy flaws"
   ]
  },
  {
   "cell_type": "markdown",
   "metadata": {
    "slideshow": {
     "slide_type": "fragment"
    }
   },
   "source": [
    "* Far from being perfect\n",
    "* it leaks *other* implementation details than CPython\n",
    "  - e.g. JIT warmup, GC pecularities\n"
   ]
  },
  {
   "cell_type": "markdown",
   "metadata": {
    "slideshow": {
     "slide_type": "slide"
    }
   },
   "source": [
    "# PyPy qualities"
   ]
  },
  {
   "cell_type": "markdown",
   "metadata": {
    "slideshow": {
     "slide_type": "subslide"
    }
   },
   "source": [
    "# Make pythonic, idiomatic code fast"
   ]
  },
  {
   "cell_type": "markdown",
   "metadata": {
    "slideshow": {
     "slide_type": "subslide"
    }
   },
   "source": [
    "# Abstractions are (almost) free\n",
    "\n"
   ]
  },
  {
   "cell_type": "markdown",
   "metadata": {
    "slideshow": {
     "slide_type": "subslide"
    }
   },
   "source": [
    "# The better the code, the biggest the speedup"
   ]
  },
  {
   "cell_type": "markdown",
   "metadata": {
    "cell_style": "split",
    "slideshow": {
     "slide_type": "subslide"
    }
   },
   "source": [
    "<img src=\"images/90-10-rule-1.svg\">"
   ]
  },
  {
   "cell_type": "markdown",
   "metadata": {
    "cell_style": "split",
    "slideshow": {
     "slide_type": "fragment"
    }
   },
   "source": [
    "<img src=\"images/90-10-rule-pypy.svg\">"
   ]
  },
  {
   "cell_type": "markdown",
   "metadata": {
    "slideshow": {
     "slide_type": "slide"
    }
   },
   "source": [
    "# Python as a first class language\n",
    "# No longer \"just glue\""
   ]
  },
  {
   "cell_type": "markdown",
   "metadata": {
    "slideshow": {
     "slide_type": "slide"
    }
   },
   "source": [
    "# Example: Sobel filter\n",
    "\n",
    "* Extendend version\n",
    "  - \"The Joy of PyPy: Abstractions for Free\", EP 2017\n",
    "\n",
    "* https://speakerdeck.com/antocuni/the-joy-of-pypy-jit-abstractions-for-free\n",
    "* https://www.youtube.com/watch?v=NQfpHQII2cU"
   ]
  },
  {
   "cell_type": "markdown",
   "metadata": {
    "cell_style": "split",
    "slideshow": {
     "slide_type": "fragment"
    }
   },
   "source": [
    "<img src=\"images/sobel-cpython.png\">"
   ]
  },
  {
   "cell_type": "markdown",
   "metadata": {
    "cell_style": "split",
    "slideshow": {
     "slide_type": "fragment"
    }
   },
   "source": [
    "<img src=\"images/sobel-pypy.png\">"
   ]
  },
  {
   "cell_type": "markdown",
   "metadata": {
    "slideshow": {
     "slide_type": "fragment"
    }
   },
   "source": [
    "# 59x ⇨ 428x faster"
   ]
  },
  {
   "cell_type": "markdown",
   "metadata": {
    "slideshow": {
     "slide_type": "slide"
    }
   },
   "source": [
    "# The *BIG* problem: C extensions"
   ]
  },
  {
   "cell_type": "markdown",
   "metadata": {
    "cell_style": "split",
    "slideshow": {
     "slide_type": "fragment"
    }
   },
   "source": [
    "## CPython\n",
    "<img src=\"images/calling-C-cpython.svg\">"
   ]
  },
  {
   "cell_type": "markdown",
   "metadata": {
    "cell_style": "split",
    "slideshow": {
     "slide_type": "fragment"
    }
   },
   "source": [
    "## PyPy (cpyext)\n",
    "<img src=\"images/calling-C-cpyext.svg\">"
   ]
  },
  {
   "cell_type": "markdown",
   "metadata": {
    "slideshow": {
     "slide_type": "slide"
    }
   },
   "source": [
    "# cpyext\n",
    "\n",
    "* PyPy version of `Python.h`\n",
    "* Compatibility layer\n",
    "* Most C extensions just work: numpy, scipy, pandas, etc.\n",
    "* Slow :(\n",
    "* Use CFFI whenever it's possible"
   ]
  },
  {
   "cell_type": "markdown",
   "metadata": {
    "slideshow": {
     "slide_type": "slide"
    }
   },
   "source": [
    "# We are working on it"
   ]
  },
  {
   "cell_type": "code",
   "execution_count": 29,
   "metadata": {
    "slideshow": {
     "slide_type": "skip"
    }
   },
   "outputs": [],
   "source": [
    "%matplotlib inline\n",
    "def plot_benchmarks(*pythons):\n",
    "    import numpy as np\n",
    "    import matplotlib\n",
    "    import matplotlib.pyplot as plt\n",
    "\n",
    "    matplotlib.rcParams['figure.figsize'] = (15,6)\n",
    "\n",
    "    data = {\"CPython\": {\"simple.noargs\": 0.43, \"simple.onearg(None)\": 0.45, \"simple.onearg(i)\": 0.44, \"simple.varargs\": 0.6, \"simple.allocate_int\": 0.46, \"simple.allocate_tuple\": 0.81, \"Foo().noargs\": 0.44, \"Foo().onearg(None)\": 0.48, \"Foo().onearg(i)\": 0.47, \"Foo().varargs\": 0.63, \"len(Foo())\": 0.34, \"Foo()[0]\": 0.25},\n",
    "            \"PyPy 5.8\": {\"simple.noargs\": 1.09, \"simple.onearg(None)\": 1.34, \"simple.onearg(i)\": 2.6, \"simple.varargs\": 2.74, \"simple.allocate_int\": 2.49, \"simple.allocate_tuple\": 8.21, \"Foo().noargs\": 1.27, \"Foo().onearg(None)\": 1.55, \"Foo().onearg(i)\": 2.85, \"Foo().varargs\": 3.06, \"len(Foo())\": 1.36, \"Foo()[0]\": 1.53},\n",
    "            \"PyPy 5.9\": {\"simple.noargs\": 0.16, \"simple.onearg(None)\": 0.2, \"simple.onearg(i)\": 1.61, \"simple.varargs\": 3.08, \"simple.allocate_int\": 1.69, \"simple.allocate_tuple\": 6.39, \"Foo().noargs\": 1.17, \"Foo().onearg(None)\": 1.74, \"Foo().onearg(i)\": 3.03, \"Foo().varargs\": 2.95, \"len(Foo())\": 1.24, \"Foo()[0]\": 1.37},\n",
    "            \"PyPy 5.10\": {\"simple.noargs\": 0.18, \"simple.onearg(None)\": 0.21, \"simple.onearg(i)\": 1.52, \"simple.varargs\": 2.59, \"simple.allocate_int\": 1.67, \"simple.allocate_tuple\": 6.44, \"Foo().noargs\": 1.12, \"Foo().onearg(None)\": 1.41, \"Foo().onearg(i)\": 2.62, \"Foo().varargs\": 2.89, \"len(Foo())\": 1.21, \"Foo()[0]\": 1.32},\n",
    "            \"PyPy 6.0\": {\"simple.noargs\": 0.18, \"simple.onearg(None)\": 0.2, \"simple.onearg(i)\": 0.22, \"simple.varargs\": 0.42, \"simple.allocate_int\": 0.89, \"simple.allocate_tuple\": 5.02, \"Foo().noargs\": 0.19, \"Foo().onearg(None)\": 0.22, \"Foo().onearg(i)\": 0.24, \"Foo().varargs\": 0.45, \"len(Foo())\": 0.15, \"Foo()[0]\": 0.28}}\n",
    "\n",
    "\n",
    "\n",
    "    #pythons = data.keys()\n",
    "    #pythons = [\"CPython\", \"PyPy 5.10\", \"PyPy 6.0\"]\n",
    "    benchmarks = data[pythons[0]].keys()\n",
    "\n",
    "    # create plot\n",
    "    fig, ax = plt.subplots()\n",
    "    index = np.arange(len(benchmarks))\n",
    "    bar_width = 0.20\n",
    "    opacity = 0.8\n",
    "\n",
    "    colors = 'bgryk'\n",
    "\n",
    "    for i, python in enumerate(pythons):\n",
    "        values = [data[python][bench] for bench in benchmarks]\n",
    "        normalized = [v/data['CPython'][bench] for (v, bench) in zip(values, benchmarks)]\n",
    "        #print python, values\n",
    "        rects1 = plt.bar(index + bar_width*i, normalized, bar_width,\n",
    "                         label=python,\n",
    "                         color=colors[i])\n",
    "\n",
    "    plt.xlabel('Benchmark')\n",
    "    plt.ylabel('Time (normalized)')\n",
    "    plt.title('cpyext microbenchmarks')\n",
    "    plt.xticks(index + bar_width, benchmarks, rotation=45)\n",
    "    plt.legend()\n",
    "\n",
    "    plt.show()\n",
    "\n"
   ]
  },
  {
   "cell_type": "code",
   "execution_count": 35,
   "metadata": {},
   "outputs": [
    {
     "data": {
      "image/png": "[encoded data removed]",
      "text/plain": [
       "<matplotlib.figure.Figure at 0x7ff8cf9c2d50>"
      ]
     },
     "metadata": {},
     "output_type": "display_data"
    }
   ],
   "source": [
    "plot_benchmarks(\"CPython\", \"PyPy 5.8\", \"PyPy 6.0\")"
   ]
  },
  {
   "cell_type": "markdown",
   "metadata": {
    "slideshow": {
     "slide_type": "fragment"
    }
   },
   "source": [
    "# Future status (hopefully)\n",
    "* All C extensions will just work\n",
    "* C code as fast as today, Python code super-fast\n",
    "* The best of both worlds\n",
    "* PyPy as the default choice for HPC\n"
   ]
  },
  {
   "cell_type": "markdown",
   "metadata": {
    "slideshow": {
     "slide_type": "fragment"
    }
   },
   "source": [
    "\n",
    "My personal estimate: 6 months of work and we have a fast cpyext\n",
    "\n",
    "(let's talk about money :))"
   ]
  },
  {
   "cell_type": "markdown",
   "metadata": {
    "slideshow": {
     "slide_type": "slide"
    }
   },
   "source": [
    "# That's all\n",
    "## Questions?"
   ]
  }
 ],
 "metadata": {
  "celltoolbar": "Slideshow",
  "kernelspec": {
   "display_name": "Python 2",
   "language": "python",
   "name": "python2"
  },
  "language_info": {
   "codemirror_mode": {
    "name": "ipython",
    "version": 2
   },
   "file_extension": ".py",
   "mimetype": "text/x-python",
   "name": "python",
   "nbconvert_exporter": "python",
   "pygments_lexer": "ipython2",
   "version": "2.7.14"
  }
 },
 "nbformat": 4,
 "nbformat_minor": 2
}
